{
 "cells": [
  {
   "cell_type": "code",
   "execution_count": 1,
   "id": "0575313f",
   "metadata": {},
   "outputs": [],
   "source": [
    "import os\n",
    "import pickle\n",
    "import sys\n",
    "import warnings\n",
    "from glob import glob\n",
    "\n",
    "import matplotlib\n",
    "import matplotlib.pyplot as plt\n",
    "import numpy as np\n",
    "import pandas as pd\n",
    "import seaborn as sns\n",
    "#import shap\n",
    "import xgboost\n",
    "from scipy.stats import spearmanr\n",
    "from sklearn.ensemble import (\n",
    "    ExtraTreesRegressor,\n",
    "    GradientBoostingRegressor,\n",
    "    RandomForestRegressor,\n",
    ")\n",
    "from sklearn.metrics import accuracy_score, mean_squared_error\n",
    "from tqdm.notebook import tqdm"
   ]
  },
  {
   "cell_type": "code",
   "execution_count": 2,
   "id": "c680c083",
   "metadata": {},
   "outputs": [
    {
     "name": "stdout",
     "output_type": "stream",
     "text": [
      "data\n",
      "events\n"
     ]
    }
   ],
   "source": [
    "dataset_dir=\"/home/sumitm/grasp-and-lift-eeg-detection/train/subj10_series1_\"\n",
    "\n",
    "inputs = {\n",
    "    \"data\": f\"{dataset_dir}data.csv\",\n",
    "    \"events\": f\"{dataset_dir}events.csv\",\n",
    "}\n",
    "\n",
    "data_specifications = {}\n",
    "for k, v in inputs.items():\n",
    "    print(k)\n",
    "    data_specifications[k] = pd.read_csv(v)"
   ]
  },
  {
   "cell_type": "code",
   "execution_count": 3,
   "id": "0e7dc388",
   "metadata": {},
   "outputs": [
    {
     "data": {
      "text/html": [
       "<div>\n",
       "<style scoped>\n",
       "    .dataframe tbody tr th:only-of-type {\n",
       "        vertical-align: middle;\n",
       "    }\n",
       "\n",
       "    .dataframe tbody tr th {\n",
       "        vertical-align: top;\n",
       "    }\n",
       "\n",
       "    .dataframe thead th {\n",
       "        text-align: right;\n",
       "    }\n",
       "</style>\n",
       "<table border=\"1\" class=\"dataframe\">\n",
       "  <thead>\n",
       "    <tr style=\"text-align: right;\">\n",
       "      <th></th>\n",
       "      <th>HandStart</th>\n",
       "      <th>FirstDigitTouch</th>\n",
       "      <th>BothStartLoadPhase</th>\n",
       "      <th>LiftOff</th>\n",
       "      <th>Replace</th>\n",
       "      <th>BothReleased</th>\n",
       "    </tr>\n",
       "  </thead>\n",
       "  <tbody>\n",
       "    <tr>\n",
       "      <th>count</th>\n",
       "      <td>262387.000000</td>\n",
       "      <td>262387.000000</td>\n",
       "      <td>262387.000000</td>\n",
       "      <td>262387.000000</td>\n",
       "      <td>262387.000000</td>\n",
       "      <td>262387.000000</td>\n",
       "    </tr>\n",
       "    <tr>\n",
       "      <th>mean</th>\n",
       "      <td>0.019437</td>\n",
       "      <td>0.019437</td>\n",
       "      <td>0.019437</td>\n",
       "      <td>0.019437</td>\n",
       "      <td>0.019437</td>\n",
       "      <td>0.019437</td>\n",
       "    </tr>\n",
       "    <tr>\n",
       "      <th>std</th>\n",
       "      <td>0.138055</td>\n",
       "      <td>0.138055</td>\n",
       "      <td>0.138055</td>\n",
       "      <td>0.138055</td>\n",
       "      <td>0.138055</td>\n",
       "      <td>0.138055</td>\n",
       "    </tr>\n",
       "    <tr>\n",
       "      <th>min</th>\n",
       "      <td>0.000000</td>\n",
       "      <td>0.000000</td>\n",
       "      <td>0.000000</td>\n",
       "      <td>0.000000</td>\n",
       "      <td>0.000000</td>\n",
       "      <td>0.000000</td>\n",
       "    </tr>\n",
       "    <tr>\n",
       "      <th>25%</th>\n",
       "      <td>0.000000</td>\n",
       "      <td>0.000000</td>\n",
       "      <td>0.000000</td>\n",
       "      <td>0.000000</td>\n",
       "      <td>0.000000</td>\n",
       "      <td>0.000000</td>\n",
       "    </tr>\n",
       "    <tr>\n",
       "      <th>50%</th>\n",
       "      <td>0.000000</td>\n",
       "      <td>0.000000</td>\n",
       "      <td>0.000000</td>\n",
       "      <td>0.000000</td>\n",
       "      <td>0.000000</td>\n",
       "      <td>0.000000</td>\n",
       "    </tr>\n",
       "    <tr>\n",
       "      <th>75%</th>\n",
       "      <td>0.000000</td>\n",
       "      <td>0.000000</td>\n",
       "      <td>0.000000</td>\n",
       "      <td>0.000000</td>\n",
       "      <td>0.000000</td>\n",
       "      <td>0.000000</td>\n",
       "    </tr>\n",
       "    <tr>\n",
       "      <th>max</th>\n",
       "      <td>1.000000</td>\n",
       "      <td>1.000000</td>\n",
       "      <td>1.000000</td>\n",
       "      <td>1.000000</td>\n",
       "      <td>1.000000</td>\n",
       "      <td>1.000000</td>\n",
       "    </tr>\n",
       "  </tbody>\n",
       "</table>\n",
       "</div>"
      ],
      "text/plain": [
       "           HandStart  FirstDigitTouch  BothStartLoadPhase        LiftOff  \\\n",
       "count  262387.000000    262387.000000       262387.000000  262387.000000   \n",
       "mean        0.019437         0.019437            0.019437       0.019437   \n",
       "std         0.138055         0.138055            0.138055       0.138055   \n",
       "min         0.000000         0.000000            0.000000       0.000000   \n",
       "25%         0.000000         0.000000            0.000000       0.000000   \n",
       "50%         0.000000         0.000000            0.000000       0.000000   \n",
       "75%         0.000000         0.000000            0.000000       0.000000   \n",
       "max         1.000000         1.000000            1.000000       1.000000   \n",
       "\n",
       "             Replace   BothReleased  \n",
       "count  262387.000000  262387.000000  \n",
       "mean        0.019437       0.019437  \n",
       "std         0.138055       0.138055  \n",
       "min         0.000000       0.000000  \n",
       "25%         0.000000       0.000000  \n",
       "50%         0.000000       0.000000  \n",
       "75%         0.000000       0.000000  \n",
       "max         1.000000       1.000000  "
      ]
     },
     "execution_count": 3,
     "metadata": {},
     "output_type": "execute_result"
    }
   ],
   "source": [
    "data_specifications['events'].describe()\n"
   ]
  },
  {
   "cell_type": "code",
   "execution_count": 4,
   "id": "2bf7d3ed",
   "metadata": {},
   "outputs": [
    {
     "data": {
      "text/html": [
       "<div>\n",
       "<style scoped>\n",
       "    .dataframe tbody tr th:only-of-type {\n",
       "        vertical-align: middle;\n",
       "    }\n",
       "\n",
       "    .dataframe tbody tr th {\n",
       "        vertical-align: top;\n",
       "    }\n",
       "\n",
       "    .dataframe thead th {\n",
       "        text-align: right;\n",
       "    }\n",
       "</style>\n",
       "<table border=\"1\" class=\"dataframe\">\n",
       "  <thead>\n",
       "    <tr style=\"text-align: right;\">\n",
       "      <th></th>\n",
       "      <th>Fp1</th>\n",
       "      <th>Fp2</th>\n",
       "      <th>F7</th>\n",
       "      <th>F3</th>\n",
       "      <th>Fz</th>\n",
       "      <th>F4</th>\n",
       "      <th>F8</th>\n",
       "      <th>FC5</th>\n",
       "      <th>FC1</th>\n",
       "      <th>FC2</th>\n",
       "      <th>...</th>\n",
       "      <th>P7</th>\n",
       "      <th>P3</th>\n",
       "      <th>Pz</th>\n",
       "      <th>P4</th>\n",
       "      <th>P8</th>\n",
       "      <th>PO9</th>\n",
       "      <th>O1</th>\n",
       "      <th>Oz</th>\n",
       "      <th>O2</th>\n",
       "      <th>PO10</th>\n",
       "    </tr>\n",
       "  </thead>\n",
       "  <tbody>\n",
       "    <tr>\n",
       "      <th>count</th>\n",
       "      <td>262387.000000</td>\n",
       "      <td>262387.000000</td>\n",
       "      <td>262387.000000</td>\n",
       "      <td>262387.000000</td>\n",
       "      <td>262387.000000</td>\n",
       "      <td>262387.000000</td>\n",
       "      <td>262387.000000</td>\n",
       "      <td>262387.000000</td>\n",
       "      <td>262387.000000</td>\n",
       "      <td>262387.000000</td>\n",
       "      <td>...</td>\n",
       "      <td>262387.000000</td>\n",
       "      <td>262387.000000</td>\n",
       "      <td>262387.000000</td>\n",
       "      <td>262387.000000</td>\n",
       "      <td>262387.000000</td>\n",
       "      <td>262387.000000</td>\n",
       "      <td>262387.000000</td>\n",
       "      <td>262387.000000</td>\n",
       "      <td>262387.000000</td>\n",
       "      <td>262387.000000</td>\n",
       "    </tr>\n",
       "    <tr>\n",
       "      <th>mean</th>\n",
       "      <td>-86.238510</td>\n",
       "      <td>-208.771627</td>\n",
       "      <td>-122.016967</td>\n",
       "      <td>-427.069051</td>\n",
       "      <td>-351.648542</td>\n",
       "      <td>-206.431222</td>\n",
       "      <td>-323.689005</td>\n",
       "      <td>-54.680392</td>\n",
       "      <td>-236.035692</td>\n",
       "      <td>-304.621666</td>\n",
       "      <td>...</td>\n",
       "      <td>-204.783690</td>\n",
       "      <td>-369.480565</td>\n",
       "      <td>-125.396853</td>\n",
       "      <td>-243.953611</td>\n",
       "      <td>-119.396578</td>\n",
       "      <td>-330.901874</td>\n",
       "      <td>-218.154139</td>\n",
       "      <td>-640.792612</td>\n",
       "      <td>-353.016826</td>\n",
       "      <td>-467.407311</td>\n",
       "    </tr>\n",
       "    <tr>\n",
       "      <th>std</th>\n",
       "      <td>269.620152</td>\n",
       "      <td>254.806070</td>\n",
       "      <td>278.971481</td>\n",
       "      <td>161.268718</td>\n",
       "      <td>146.001852</td>\n",
       "      <td>270.501995</td>\n",
       "      <td>168.565288</td>\n",
       "      <td>190.552756</td>\n",
       "      <td>71.387063</td>\n",
       "      <td>194.954165</td>\n",
       "      <td>...</td>\n",
       "      <td>176.353497</td>\n",
       "      <td>186.829252</td>\n",
       "      <td>164.629680</td>\n",
       "      <td>140.499600</td>\n",
       "      <td>178.106856</td>\n",
       "      <td>171.757050</td>\n",
       "      <td>170.681583</td>\n",
       "      <td>185.227185</td>\n",
       "      <td>159.828020</td>\n",
       "      <td>209.278635</td>\n",
       "    </tr>\n",
       "    <tr>\n",
       "      <th>min</th>\n",
       "      <td>-1086.000000</td>\n",
       "      <td>-1224.000000</td>\n",
       "      <td>-1495.000000</td>\n",
       "      <td>-989.000000</td>\n",
       "      <td>-758.000000</td>\n",
       "      <td>-1448.000000</td>\n",
       "      <td>-3503.000000</td>\n",
       "      <td>-1197.000000</td>\n",
       "      <td>-498.000000</td>\n",
       "      <td>-914.000000</td>\n",
       "      <td>...</td>\n",
       "      <td>-1097.000000</td>\n",
       "      <td>-1442.000000</td>\n",
       "      <td>-972.000000</td>\n",
       "      <td>-1028.000000</td>\n",
       "      <td>-1195.000000</td>\n",
       "      <td>-1661.000000</td>\n",
       "      <td>-1342.000000</td>\n",
       "      <td>-1801.000000</td>\n",
       "      <td>-1614.000000</td>\n",
       "      <td>-1774.000000</td>\n",
       "    </tr>\n",
       "    <tr>\n",
       "      <th>25%</th>\n",
       "      <td>-250.000000</td>\n",
       "      <td>-358.000000</td>\n",
       "      <td>-281.000000</td>\n",
       "      <td>-537.000000</td>\n",
       "      <td>-458.000000</td>\n",
       "      <td>-377.000000</td>\n",
       "      <td>-435.000000</td>\n",
       "      <td>-168.000000</td>\n",
       "      <td>-289.000000</td>\n",
       "      <td>-433.000000</td>\n",
       "      <td>...</td>\n",
       "      <td>-321.000000</td>\n",
       "      <td>-487.000000</td>\n",
       "      <td>-241.000000</td>\n",
       "      <td>-339.000000</td>\n",
       "      <td>-234.000000</td>\n",
       "      <td>-442.000000</td>\n",
       "      <td>-333.000000</td>\n",
       "      <td>-765.000000</td>\n",
       "      <td>-457.000000</td>\n",
       "      <td>-610.000000</td>\n",
       "    </tr>\n",
       "    <tr>\n",
       "      <th>50%</th>\n",
       "      <td>-84.000000</td>\n",
       "      <td>-203.000000</td>\n",
       "      <td>-115.000000</td>\n",
       "      <td>-435.000000</td>\n",
       "      <td>-355.000000</td>\n",
       "      <td>-233.000000</td>\n",
       "      <td>-322.000000</td>\n",
       "      <td>-42.000000</td>\n",
       "      <td>-229.000000</td>\n",
       "      <td>-308.000000</td>\n",
       "      <td>...</td>\n",
       "      <td>-203.000000</td>\n",
       "      <td>-367.000000</td>\n",
       "      <td>-130.000000</td>\n",
       "      <td>-244.000000</td>\n",
       "      <td>-117.000000</td>\n",
       "      <td>-330.000000</td>\n",
       "      <td>-221.000000</td>\n",
       "      <td>-647.000000</td>\n",
       "      <td>-355.000000</td>\n",
       "      <td>-468.000000</td>\n",
       "    </tr>\n",
       "    <tr>\n",
       "      <th>75%</th>\n",
       "      <td>67.000000</td>\n",
       "      <td>-59.000000</td>\n",
       "      <td>37.000000</td>\n",
       "      <td>-322.000000</td>\n",
       "      <td>-257.000000</td>\n",
       "      <td>-49.000000</td>\n",
       "      <td>-210.000000</td>\n",
       "      <td>76.000000</td>\n",
       "      <td>-183.000000</td>\n",
       "      <td>-186.000000</td>\n",
       "      <td>...</td>\n",
       "      <td>-87.000000</td>\n",
       "      <td>-249.000000</td>\n",
       "      <td>-13.000000</td>\n",
       "      <td>-151.000000</td>\n",
       "      <td>-2.000000</td>\n",
       "      <td>-217.000000</td>\n",
       "      <td>-108.000000</td>\n",
       "      <td>-522.000000</td>\n",
       "      <td>-250.000000</td>\n",
       "      <td>-325.000000</td>\n",
       "    </tr>\n",
       "    <tr>\n",
       "      <th>max</th>\n",
       "      <td>2414.000000</td>\n",
       "      <td>2307.000000</td>\n",
       "      <td>1921.000000</td>\n",
       "      <td>498.000000</td>\n",
       "      <td>161.000000</td>\n",
       "      <td>824.000000</td>\n",
       "      <td>1888.000000</td>\n",
       "      <td>995.000000</td>\n",
       "      <td>-4.000000</td>\n",
       "      <td>284.000000</td>\n",
       "      <td>...</td>\n",
       "      <td>864.000000</td>\n",
       "      <td>360.000000</td>\n",
       "      <td>562.000000</td>\n",
       "      <td>316.000000</td>\n",
       "      <td>860.000000</td>\n",
       "      <td>454.000000</td>\n",
       "      <td>534.000000</td>\n",
       "      <td>143.000000</td>\n",
       "      <td>411.000000</td>\n",
       "      <td>409.000000</td>\n",
       "    </tr>\n",
       "  </tbody>\n",
       "</table>\n",
       "<p>8 rows × 32 columns</p>\n",
       "</div>"
      ],
      "text/plain": [
       "                 Fp1            Fp2             F7             F3  \\\n",
       "count  262387.000000  262387.000000  262387.000000  262387.000000   \n",
       "mean      -86.238510    -208.771627    -122.016967    -427.069051   \n",
       "std       269.620152     254.806070     278.971481     161.268718   \n",
       "min     -1086.000000   -1224.000000   -1495.000000    -989.000000   \n",
       "25%      -250.000000    -358.000000    -281.000000    -537.000000   \n",
       "50%       -84.000000    -203.000000    -115.000000    -435.000000   \n",
       "75%        67.000000     -59.000000      37.000000    -322.000000   \n",
       "max      2414.000000    2307.000000    1921.000000     498.000000   \n",
       "\n",
       "                  Fz             F4             F8            FC5  \\\n",
       "count  262387.000000  262387.000000  262387.000000  262387.000000   \n",
       "mean     -351.648542    -206.431222    -323.689005     -54.680392   \n",
       "std       146.001852     270.501995     168.565288     190.552756   \n",
       "min      -758.000000   -1448.000000   -3503.000000   -1197.000000   \n",
       "25%      -458.000000    -377.000000    -435.000000    -168.000000   \n",
       "50%      -355.000000    -233.000000    -322.000000     -42.000000   \n",
       "75%      -257.000000     -49.000000    -210.000000      76.000000   \n",
       "max       161.000000     824.000000    1888.000000     995.000000   \n",
       "\n",
       "                 FC1            FC2  ...             P7             P3  \\\n",
       "count  262387.000000  262387.000000  ...  262387.000000  262387.000000   \n",
       "mean     -236.035692    -304.621666  ...    -204.783690    -369.480565   \n",
       "std        71.387063     194.954165  ...     176.353497     186.829252   \n",
       "min      -498.000000    -914.000000  ...   -1097.000000   -1442.000000   \n",
       "25%      -289.000000    -433.000000  ...    -321.000000    -487.000000   \n",
       "50%      -229.000000    -308.000000  ...    -203.000000    -367.000000   \n",
       "75%      -183.000000    -186.000000  ...     -87.000000    -249.000000   \n",
       "max        -4.000000     284.000000  ...     864.000000     360.000000   \n",
       "\n",
       "                  Pz             P4             P8            PO9  \\\n",
       "count  262387.000000  262387.000000  262387.000000  262387.000000   \n",
       "mean     -125.396853    -243.953611    -119.396578    -330.901874   \n",
       "std       164.629680     140.499600     178.106856     171.757050   \n",
       "min      -972.000000   -1028.000000   -1195.000000   -1661.000000   \n",
       "25%      -241.000000    -339.000000    -234.000000    -442.000000   \n",
       "50%      -130.000000    -244.000000    -117.000000    -330.000000   \n",
       "75%       -13.000000    -151.000000      -2.000000    -217.000000   \n",
       "max       562.000000     316.000000     860.000000     454.000000   \n",
       "\n",
       "                  O1             Oz             O2           PO10  \n",
       "count  262387.000000  262387.000000  262387.000000  262387.000000  \n",
       "mean     -218.154139    -640.792612    -353.016826    -467.407311  \n",
       "std       170.681583     185.227185     159.828020     209.278635  \n",
       "min     -1342.000000   -1801.000000   -1614.000000   -1774.000000  \n",
       "25%      -333.000000    -765.000000    -457.000000    -610.000000  \n",
       "50%      -221.000000    -647.000000    -355.000000    -468.000000  \n",
       "75%      -108.000000    -522.000000    -250.000000    -325.000000  \n",
       "max       534.000000     143.000000     411.000000     409.000000  \n",
       "\n",
       "[8 rows x 32 columns]"
      ]
     },
     "execution_count": 4,
     "metadata": {},
     "output_type": "execute_result"
    }
   ],
   "source": [
    "data_specifications['data'].describe()\n"
   ]
  },
  {
   "cell_type": "markdown",
   "id": "c671d7c5",
   "metadata": {},
   "source": [
    "def timeplots(df,t = False):\n",
    "    \n",
    "    for x in df:\n",
    "        if x != 'timestamps':\n",
    "            plt.figure(figsize=(20,5))\n",
    "            if (t==False):\n",
    "                plt.boxplot(df[x])\n",
    "                plt.title(x)\n",
    "                plt.xlabel('time')\n",
    "                plt.show()\n",
    "            plt.figure(figsize=(20,5))\n",
    "            plt.plot(df['timestamps'],df[x])\n",
    "            plt.title(x)\n",
    "            plt.xlabel('time')\n",
    "            plt.show()\n",
    "timeplots(data_specifications['data'])"
   ]
  },
  {
   "cell_type": "code",
   "execution_count": 5,
   "id": "c67ec8e4",
   "metadata": {},
   "outputs": [],
   "source": [
    "df = (data_specifications['data'])"
   ]
  },
  {
   "cell_type": "code",
   "execution_count": 6,
   "id": "64f78ba5",
   "metadata": {
    "scrolled": true
   },
   "outputs": [
    {
     "name": "stdout",
     "output_type": "stream",
     "text": [
      "['id', 'Fp1', 'Fp2', 'F7', 'F3', 'Fz', 'F4', 'F8', 'FC5', 'FC1', 'FC2', 'FC6', 'T7', 'C3', 'Cz', 'C4', 'T8', 'TP9', 'CP5', 'CP1', 'CP2', 'CP6', 'TP10', 'P7', 'P3', 'Pz', 'P4', 'P8', 'PO9', 'O1', 'Oz', 'O2', 'PO10']\n"
     ]
    },
    {
     "data": {
      "text/plain": [
       "33"
      ]
     },
     "execution_count": 6,
     "metadata": {},
     "output_type": "execute_result"
    }
   ],
   "source": [
    "print(list(df))\n",
    "len(list(df))\n"
   ]
  },
  {
   "cell_type": "markdown",
   "id": "471032a6",
   "metadata": {},
   "source": [
    "['FP1', 'FPZ', 'FP2', 'AF3', 'AF4', 'F7', 'F5', 'F3', 'F1', 'FZ', 'F2', 'F4', 'F6', 'F8', 'FT7', 'FC5', 'FC3', 'FC1', 'FCZ', 'FC2', 'FC4', 'FC6', 'FT8', 'T7', 'C5', 'C3', 'C1', 'CZ', 'C2', 'C4', 'C6', 'T8', 'M1', 'TP7', 'CP5', 'CP3', 'CP1', 'CPZ', 'CP2', 'CP4', 'CP6', 'TP8', 'M2', 'P7', 'P5', 'P3', 'P1', 'PZ', 'P2', 'P4', 'P6', 'P8', 'PO7', 'PO5', 'PO3', 'POZ', 'PO4', 'PO6', 'PO8', 'CB1', 'O1', 'OZ', 'O2', 'CB2', 'VEO', 'HEO']"
   ]
  },
  {
   "cell_type": "code",
   "execution_count": 8,
   "id": "3cd126df",
   "metadata": {},
   "outputs": [],
   "source": [
    "SEEDlist = ['FP1', 'FPZ', 'FP2', 'AF3', 'AF4', 'F7', 'F5', 'F3', 'F1', 'FZ', 'F2', 'F4', 'F6', 'F8', 'FT7', 'FC5', 'FC3', 'FC1', 'FCZ', 'FC2', 'FC4', 'FC6', 'FT8', 'T7', 'C5', 'C3', 'C1', 'CZ', 'C2', 'C4', 'C6', 'T8', 'M1', 'TP7', 'CP5', 'CP3', 'CP1', 'CPZ', 'CP2', 'CP4', 'CP6', 'TP8', 'M2', 'P7', 'P5', 'P3', 'P1', 'PZ', 'P2', 'P4', 'P6', 'P8', 'PO7', 'PO5', 'PO3', 'POZ', 'PO4', 'PO6', 'PO8', 'CB1', 'O1', 'OZ', 'O2', 'CB2', 'VEO', 'HEO']"
   ]
  },
  {
   "cell_type": "code",
   "execution_count": 11,
   "id": "1681be5b",
   "metadata": {},
   "outputs": [
    {
     "data": {
      "text/plain": [
       "66"
      ]
     },
     "execution_count": 11,
     "metadata": {},
     "output_type": "execute_result"
    }
   ],
   "source": [
    "len(SEEDlist)"
   ]
  },
  {
   "cell_type": "code",
   "execution_count": 9,
   "id": "1b54203d",
   "metadata": {},
   "outputs": [
    {
     "data": {
      "text/plain": [
       "[<matplotlib.lines.Line2D at 0x149dc8535040>]"
      ]
     },
     "execution_count": 9,
     "metadata": {},
     "output_type": "execute_result"
    },
    {
     "data": {
      "image/png": "[encoded data removed]",
      "text/plain": [
       "<Figure size 432x288 with 1 Axes>"
      ]
     },
     "metadata": {
      "needs_background": "light"
     },
     "output_type": "display_data"
    }
   ],
   "source": [
    "plt.plot(df['F4'])"
   ]
  },
  {
   "cell_type": "code",
   "execution_count": 7,
   "id": "3ae5ce3e",
   "metadata": {},
   "outputs": [
    {
     "data": {
      "text/plain": [
       "['ID',\n",
       " 'FP1',\n",
       " 'FP2',\n",
       " 'F7',\n",
       " 'F3',\n",
       " 'FZ',\n",
       " 'F4',\n",
       " 'F8',\n",
       " 'FC5',\n",
       " 'FC1',\n",
       " 'FC2',\n",
       " 'FC6',\n",
       " 'T7',\n",
       " 'C3',\n",
       " 'CZ',\n",
       " 'C4',\n",
       " 'T8',\n",
       " 'TP9',\n",
       " 'CP5',\n",
       " 'CP1',\n",
       " 'CP2',\n",
       " 'CP6',\n",
       " 'TP10',\n",
       " 'P7',\n",
       " 'P3',\n",
       " 'PZ',\n",
       " 'P4',\n",
       " 'P8',\n",
       " 'PO9',\n",
       " 'O1',\n",
       " 'OZ',\n",
       " 'O2',\n",
       " 'PO10']"
      ]
     },
     "execution_count": 7,
     "metadata": {},
     "output_type": "execute_result"
    }
   ],
   "source": [
    "test = list()\n",
    "for x in list(df):\n",
    "    test.append(x.upper())\n",
    "test"
   ]
  },
  {
   "cell_type": "code",
   "execution_count": 13,
   "id": "6ec7cffa",
   "metadata": {},
   "outputs": [
    {
     "name": "stdout",
     "output_type": "stream",
     "text": [
      "{'CP5', 'P7', 'CP1', 'FP2', 'F4', 'P3', 'O1', 'FC5', 'FC1', 'T8', 'PZ', 'O2', 'FC6', 'T7', 'F7', 'F3', 'C4', 'FC2', 'CP6', 'F8', 'OZ', 'FZ', 'FP1', 'C3', 'CZ', 'CP2', 'P8', 'P4'}\n"
     ]
    }
   ],
   "source": [
    "motionset = set(test)\n",
    "emotionset = set(SEEDlist)\n",
    "print(emotionset.intersection(motionset))"
   ]
  },
  {
   "cell_type": "code",
   "execution_count": 15,
   "id": "50ff6a0c",
   "metadata": {},
   "outputs": [
    {
     "name": "stdout",
     "output_type": "stream",
     "text": [
      "['Fp1', 'FC1', 'Fp2', 'P7', 'FC5', 'T7', 'F8', 'P4', 'CP5', 'P3', 'T8', 'Oz', 'FC6', 'O2', 'Cz', 'Fz', 'P8', 'C3', 'CP6', 'CP2', 'CP1', 'Pz', 'O1', 'F3', 'F7', 'C4', 'FC2', 'F4']\n"
     ]
    },
    {
     "data": {
      "text/plain": [
       "28"
      ]
     },
     "execution_count": 15,
     "metadata": {},
     "output_type": "execute_result"
    }
   ],
   "source": [
    "intersection = ['Fp1', 'FC1', 'Fp2', 'P7', 'FC5', 'T7', 'F8', 'P4', 'CP5', 'P3', 'T8', 'Oz', 'FC6', 'O2', 'Cz', 'Fz', 'P8', 'C3', 'CP6', 'CP2', 'CP1', 'Pz', 'O1', 'F3', 'F7', 'C4', 'FC2', 'F4']\n",
    "print(list(intersection))\n",
    "len(list(intersection))"
   ]
  },
  {
   "cell_type": "code",
   "execution_count": 16,
   "id": "fb1c6b6d",
   "metadata": {},
   "outputs": [
    {
     "data": {
      "text/plain": [
       "262386   -120\n",
       "Name: F4, dtype: int64"
      ]
     },
     "execution_count": 16,
     "metadata": {},
     "output_type": "execute_result"
    }
   ],
   "source": [
    "df['F4'].tail(1)"
   ]
  },
  {
   "cell_type": "code",
   "execution_count": 17,
   "id": "4f4411f2",
   "metadata": {},
   "outputs": [
    {
     "data": {
      "text/plain": [
       "(262387, 28)"
      ]
     },
     "execution_count": 17,
     "metadata": {},
     "output_type": "execute_result"
    }
   ],
   "source": [
    "df[intersection].shape"
   ]
  },
  {
   "cell_type": "code",
   "execution_count": 23,
   "id": "4c46c605",
   "metadata": {},
   "outputs": [
    {
     "data": {
      "text/plain": [
       "(262387, 28)"
      ]
     },
     "execution_count": 23,
     "metadata": {},
     "output_type": "execute_result"
    }
   ],
   "source": [
    "df[intersection].values.shape"
   ]
  },
  {
   "cell_type": "code",
   "execution_count": null,
   "id": "d44d8d59",
   "metadata": {},
   "outputs": [],
   "source": []
  }
 ],
 "metadata": {
  "kernelspec": {
   "display_name": "Python 3 (ipykernel)",
   "language": "python",
   "name": "python3"
  },
  "language_info": {
   "codemirror_mode": {
    "name": "ipython",
    "version": 3
   },
   "file_extension": ".py",
   "mimetype": "text/x-python",
   "name": "python",
   "nbconvert_exporter": "python",
   "pygments_lexer": "ipython3",
   "version": "3.8.10"
  }
 },
 "nbformat": 4,
 "nbformat_minor": 5
}
